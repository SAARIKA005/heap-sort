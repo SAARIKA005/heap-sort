{
  "nbformat": 4,
  "nbformat_minor": 0,
  "metadata": {
    "colab": {
      "name": "Untitled38.ipynb",
      "provenance": []
    },
    "kernelspec": {
      "name": "python3",
      "display_name": "Python 3"
    },
    "language_info": {
      "name": "python"
    }
  },
  "cells": [
    {
      "cell_type": "code",
      "source": [
        "from heapq import heappop, heappush  \n",
        "   \n",
        " def heapsort(list1):  \n",
        "     heap = []  \n",
        "     for ele in list1:  \n",
        "         heappush(heap, ele)  \n",
        "   \n",
        "     sort = []  \n",
        "   \n",
        "     # the elements are lift in the heap  \n",
        "     while heap:  \n",
        "         sort.append(heappop(heap))  \n",
        "   \n",
        "     return sort  \n",
        "   \n",
        " list1 = [27, 21, 55, 15, 60, 4, 11, 17, 2, 87]  \n",
        " print(heapsort(list1))  "
      ],
      "metadata": {
        "id": "_3P9LZXX-DdY"
      },
      "execution_count": null,
      "outputs": []
    }
  ]
}